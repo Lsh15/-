{
 "cells": [
  {
   "cell_type": "code",
   "execution_count": 1,
   "metadata": {},
   "outputs": [],
   "source": [
    "from urllib.request import urlopen\n",
    "import urllib.request\n",
    "from bs4 import BeautifulSoup\n",
    "import pandas as pd\n",
    "from selenium import webdriver\n",
    "from selenium.webdriver.common.keys import Keys\n",
    "from selenium.common.exceptions import NoSuchElementException\n",
    "from selenium.webdriver.chrome.options import Options\n",
    "import time"
   ]
  },
  {
   "cell_type": "code",
   "execution_count": 2,
   "metadata": {},
   "outputs": [],
   "source": [
    "driver = webdriver.Chrome('C:/Users/CE206-28/chromedriver_win32/chromedriver.exe')\n",
    "driver.get('https://store.naver.com/attractions/detail?entry=plt&id=11576170&query=세종문화회관')"
   ]
  },
  {
   "cell_type": "code",
   "execution_count": 9,
   "metadata": {},
   "outputs": [],
   "source": [
    "xpath = '//*[@id=\"content\"]/div[2]/div[2]/div/div[6]/div/div/a'\n",
    "driver.find_element_by_xpath(xpath).click()"
   ]
  },
  {
   "cell_type": "code",
   "execution_count": 10,
   "metadata": {},
   "outputs": [],
   "source": [
    "html = driver.page_source\n",
    "soup = BeautifulSoup(html, 'html.parser')\n",
    "raw_list = soup.find_all(class_= \"ellipsis_area\")"
   ]
  },
  {
   "cell_type": "code",
   "execution_count": 13,
   "metadata": {},
   "outputs": [
    {
     "data": {
      "text/plain": [
       "'1972년 서울 시민회관이 불타 없어진 뒤, 서울 시민을 위한 문화공간으로 활용하기 위해 1974년 착공하여 1978년에 준공, 개관하였다. 지하 3층, 지상 6층으로 건축 연면적은 1만 6122평, 부지면적은 5,611평이다. 건축양식은 한국의 옛 건축양식을 현대적 감각에 맞게 변용하여 웅장하면서도 우아한 느낌을 갖도록 하였다. 설계는 건축가 엄덕문이 하였다. 원래는 서울특별시가 운영하였으나, 문화공간으로서의 역할을 제대로 하지 못함에 따라 1999년 7월 1일 재단법인으로 새롭게 출발하였다.시설은 대극장·소극장·미술관본관·미술관별관·미술관신관 등 기본시설과 컨벤션센터·컨퍼런스홀·소회의실·분수대광장·데크플라자·삼청각(三淸閣) 등 부대시설로 이루어져 있다.① 대극장은 세종문화회관의 주무대로, 동양 최대의 파이프 오르간과 웅장한 무대를 갖추었고, 3,022석의 객석이 있다. 무대 규모는 1,785㎡이며, 17m의 회전무대와 4개의 수평이동무대, 3개의 승강무대로 이루어져 있다. 음악·연극·무용·영화 등 장르에 구애받지 않고 다양한 공연을 할 수 있다. ② 소극장은 1·2층에 있으며, 442석의 객석을 갖추었고, 무대 면적은 300㎡이다. 구성은 스타디움 형식으로 100여 명이 동시에 설 수 있고, 주로 소규모 행사와 공연에 이용된다.③ 미술관 본관은 복합문화공간을 위한 전시 전문관으로, 면적은 320평이며, 4개의 전시실로 이루어져 있다. ④ 미술관 별관은 지하철 역사(驛舍) 공간을 문화공간으로 탈바꿈시킨 것으로, 서울지하철 5호선 광화문역 4번 출구에 있다. 총 80평 규모이며, 제1·2전시실로 구성되어 있다. 보통 광화문갤러리로 부른다. ⑤ 미술관 신관은 세종문화회관 데크플라자에 붙어 있는 전시 공간으로, 규모는 170평이다. 1·2관으로 구성되어 있고, 다양한 장르의 전시와 행사용으로 이용된다.⑥ 3층에 있는 컨벤션센터는 학술 심포지엄과 국제회의·행사·패션쇼·국악공연 등에 이용된다. 최대 400명을 수용할 수 있는 다목적 행사장으로, 적외선 방식의 동시통역기 5식과 스크린·의자·탁자 등 각종 편의시설이 갖추어져 있다. ⑦ 4층의 컨퍼런스홀은 세미나와 심포지엄 장소로 이용된다. 대관은 컨벤션센터와 함께 오전·오후·야간 등 시간대별로 이루어진다. ⑧ 삼청각은 대지 5,884평, 연건평 1,331평으로 6채의 한옥으로 이루어져 있다. 2001년 10월부터 세종문화회관이 전통문화 체험의 장으로 활용하고 있으며, 전통공연·세미나·문화관광상품매장·전통음식점·전통예술습득 등 다양한 용도로 이용된다.'"
      ]
     },
     "execution_count": 13,
     "metadata": {},
     "output_type": "execute_result"
    }
   ],
   "source": [
    "raw_list[0].get_text().replace(\"\\r\\n\",\"\")"
   ]
  },
  {
   "cell_type": "code",
   "execution_count": 34,
   "metadata": {},
   "outputs": [],
   "source": [
    "theme_list = soup.find_all(\"ul\", class_= \"list_theme\")"
   ]
  },
  {
   "cell_type": "code",
   "execution_count": 39,
   "metadata": {},
   "outputs": [
    {
     "data": {
      "text/plain": [
       "['', '재미있는, 화려한, 서정적인, 웅장한, 신비로운']"
      ]
     },
     "execution_count": 39,
     "metadata": {},
     "output_type": "execute_result"
    }
   ],
   "source": [
    "theme_list[0].get_text().split(\"인기토픽\")[0].split(\"분위기\")"
   ]
  },
  {
   "cell_type": "code",
   "execution_count": null,
   "metadata": {},
   "outputs": [],
   "source": []
  }
 ],
 "metadata": {
  "kernelspec": {
   "display_name": "Python 3",
   "language": "python",
   "name": "python3"
  },
  "language_info": {
   "codemirror_mode": {
    "name": "ipython",
    "version": 3
   },
   "file_extension": ".py",
   "mimetype": "text/x-python",
   "name": "python",
   "nbconvert_exporter": "python",
   "pygments_lexer": "ipython3",
   "version": "3.7.3"
  }
 },
 "nbformat": 4,
 "nbformat_minor": 2
}
