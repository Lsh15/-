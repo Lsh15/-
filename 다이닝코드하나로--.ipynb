{
 "cells": [
  {
   "cell_type": "code",
   "execution_count": 7,
   "metadata": {},
   "outputs": [],
   "source": [
    "from urllib.request import urlopen\n",
    "import urllib.request\n",
    "from bs4 import BeautifulSoup\n",
    "import pandas as pd\n",
    "from selenium import webdriver\n",
    "from selenium.webdriver.common.keys import Keys\n",
    "from selenium.common.exceptions import NoSuchElementException\n",
    "from selenium.webdriver.chrome.options import Options\n",
    "import time\n",
    "from selenium.webdriver.common.by import By\n",
    "from selenium.webdriver.support.ui import WebDriverWait\n",
    "from selenium.webdriver.support import expected_conditions as EC"
   ]
  },
  {
   "cell_type": "markdown",
   "metadata": {},
   "source": [
    "파이썬 오류 공부\n",
    "\n",
    "https://blog.naver.com/riring79/220870765881"
   ]
  },
  {
   "cell_type": "code",
   "execution_count": 13,
   "metadata": {
    "scrolled": true
   },
   "outputs": [],
   "source": [
    "data = pd.read_csv(\"dataset1-hm.csv\", encoding='CP949')\n",
    "data1 = data[data['분류']== 10000000]\n",
    "data1\n",
    "\n",
    "data_name_10000000 =data1['가게명칭']\n",
    "\n",
    "data_name_10000000 = data_name_10000000.dropna()\n",
    "data_name_10000000 = data_name_10000000.reset_index()\n",
    "\n",
    "data_name_10000000 =data_name_10000000['가게명칭']"
   ]
  },
  {
   "cell_type": "code",
   "execution_count": 14,
   "metadata": {},
   "outputs": [],
   "source": [
    "### name에 31번째 주소를 넣어 검색 실습 ###\n",
    "\n",
    "name = 'https://www.diningcode.com/'\n",
    "\n",
    "driver = webdriver.Chrome('../chromedriver_win32/chromedriver')\n",
    "driver.get(name)\n",
    "time.sleep(1)"
   ]
  },
  {
   "cell_type": "code",
   "execution_count": 15,
   "metadata": {},
   "outputs": [],
   "source": [
    "wait = WebDriverWait(driver, 10)\n",
    "# select = driver.find_element_by_id(\"txt_keyword\")\n",
    "### 탭 이동 명령어 ###\n",
    "driver.window_handles\n",
    "\n",
    "time.sleep(1)"
   ]
  },
  {
   "cell_type": "code",
   "execution_count": 16,
   "metadata": {},
   "outputs": [
    {
     "ename": "KeyboardInterrupt",
     "evalue": "",
     "output_type": "error",
     "traceback": [
      "\u001b[1;31m---------------------------------------------------------------------------\u001b[0m",
      "\u001b[1;31mKeyboardInterrupt\u001b[0m                         Traceback (most recent call last)",
      "\u001b[1;32m<ipython-input-16-54e8ba7df162>\u001b[0m in \u001b[0;36m<module>\u001b[1;34m\u001b[0m\n\u001b[0;32m     11\u001b[0m     \u001b[0mxpath\u001b[0m \u001b[1;33m=\u001b[0m \u001b[1;34m\"\"\"//*[@id=\"header\"]/form/p/button\"\"\"\u001b[0m\u001b[1;33m\u001b[0m\u001b[1;33m\u001b[0m\u001b[0m\n\u001b[0;32m     12\u001b[0m     \u001b[0mdriver\u001b[0m\u001b[1;33m.\u001b[0m\u001b[0mfind_element_by_xpath\u001b[0m\u001b[1;33m(\u001b[0m\u001b[0mxpath\u001b[0m\u001b[1;33m)\u001b[0m\u001b[1;33m.\u001b[0m\u001b[0msubmit\u001b[0m\u001b[1;33m(\u001b[0m\u001b[1;33m)\u001b[0m\u001b[1;33m\u001b[0m\u001b[1;33m\u001b[0m\u001b[0m\n\u001b[1;32m---> 13\u001b[1;33m     \u001b[0mtime\u001b[0m\u001b[1;33m.\u001b[0m\u001b[0msleep\u001b[0m\u001b[1;33m(\u001b[0m\u001b[1;36m1\u001b[0m\u001b[1;33m)\u001b[0m\u001b[1;33m\u001b[0m\u001b[1;33m\u001b[0m\u001b[0m\n\u001b[0m\u001b[0;32m     14\u001b[0m \u001b[1;33m\u001b[0m\u001b[0m\n\u001b[0;32m     15\u001b[0m \u001b[1;33m\u001b[0m\u001b[0m\n",
      "\u001b[1;31mKeyboardInterrupt\u001b[0m: "
     ]
    }
   ],
   "source": [
    "lists = []\n",
    "\n",
    "for i in range(len(data_name_10000000)):\n",
    "    select = driver.find_element_by_id(\"txt_keyword\")\n",
    "    select.send_keys(data_name_10000000[i])\n",
    "    time.sleep(1)  \n",
    "#     name_all = name+'isearch.php?query='+data_name_10000000[i]\n",
    "#     driver.get(name_all)\n",
    "\n",
    "    ### 일치하는 페이지 클릭 ###\n",
    "    xpath = \"\"\"//*[@id=\"header\"]/form/p/button\"\"\"\n",
    "    driver.find_element_by_xpath(xpath).submit()\n",
    "    time.sleep(1)\n",
    "    \n",
    "    \n",
    "    ### 일치하는 페이지 클릭(첫 번째) ###\n",
    "    try:\n",
    "        xpath = \"\"\"//*[@id=\"div_rn\"]/ul/li[1]\"\"\"\n",
    "        driver.find_element_by_xpath(xpath).click()\n",
    "    except:\n",
    "        continue\n",
    "        #None\n",
    "        driver.close()\n",
    "    time.sleep(1)\n",
    "    \n",
    "    \n",
    "    ### 마지막탭 가기(새탭으로 이동해야 크롤링 가능함) ###\n",
    "    last_tab = driver.window_handles[-1]\n",
    "    driver.switch_to.window(window_name=last_tab)\n",
    "    time.sleep(1)\n",
    "    \n",
    "    ### 페이지 내용 가져오기 ###\n",
    "    try:\n",
    "            ### 리뷰 모두 보기 클릭 ###\n",
    "        try:\n",
    "            xpath1 = \"\"\"//*[@id=\"div_more_review\"]\"\"\"\n",
    "            driver.find_element_by_xpath(xpath1).click()\n",
    "        except:\n",
    "            driver.close()\n",
    "            None\n",
    "        time.sleep(1)\n",
    "\n",
    "        html  = driver.page_source\n",
    "        soup = BeautifulSoup(html,'html.parser')\n",
    "        time.sleep(1)\n",
    "\n",
    "        raw_all = soup.find_all('p',class_=\"review_contents btxt\")\n",
    "        time.sleep(1)\n",
    "\n",
    "        \n",
    "        ### 리스트에 넣기 ###\n",
    "        for i in raw_all:\n",
    "            lists.append(i.get_text().replace(\"\\n\",\" \").strip())\n",
    "        time.sleep(1)\n",
    "\n",
    "        ### 중복 제거 ###\n",
    "        lists = list(set(lists))\n",
    "        lists\n",
    "        time.sleep(1)\n",
    "\n",
    "        driver.find_element_by_id(\"txt_keyword\").clear()\n",
    "\n",
    "        \n",
    "        ### 데이터프레임에 넣기 ###\n",
    "        try:\n",
    "            df = pd.DataFrame(lists, columns=[data_name_10000000[i]])\n",
    "            time.sleep(1)\n",
    "\n",
    "            df.to_csv('../웹 문서 크롤링/다이닝코드.csv', sep = ',',\n",
    "                 encoding='UTF-8')\n",
    "            time.sleep(1)\n",
    "        except:\n",
    "            None\n",
    "\n",
    "            \n",
    "        ### 마지막탭 가기 다시 ###\n",
    "        last_tab = driver.window_handles[-1]\n",
    "        driver.switch_to.window(window_name=last_tab)\n",
    "        time.sleep(1)\n",
    "\n",
    "        ### 리뷰가 있는 태그만 불러오기 ###\n",
    "        try:\n",
    "            soup.find_all(class_=\"review_contents btxt\")\n",
    "            time.sleep(1)\n",
    "        except:\n",
    "            None\n",
    "\n",
    "\n",
    "    except:\n",
    "        continue\n",
    "        driver.close()\n",
    "    time.sleep(1)\n",
    "    \n",
    "\n",
    "driver.close()"
   ]
  },
  {
   "cell_type": "code",
   "execution_count": null,
   "metadata": {},
   "outputs": [],
   "source": []
  },
  {
   "cell_type": "code",
   "execution_count": 17,
   "metadata": {},
   "outputs": [
    {
     "data": {
      "text/plain": [
       "[]"
      ]
     },
     "execution_count": 17,
     "metadata": {},
     "output_type": "execute_result"
    }
   ],
   "source": [
    "lists"
   ]
  },
  {
   "cell_type": "code",
   "execution_count": null,
   "metadata": {},
   "outputs": [],
   "source": []
  }
 ],
 "metadata": {
  "kernelspec": {
   "display_name": "Python 3",
   "language": "python",
   "name": "python3"
  },
  "language_info": {
   "codemirror_mode": {
    "name": "ipython",
    "version": 3
   },
   "file_extension": ".py",
   "mimetype": "text/x-python",
   "name": "python",
   "nbconvert_exporter": "python",
   "pygments_lexer": "ipython3",
   "version": "3.7.3"
  }
 },
 "nbformat": 4,
 "nbformat_minor": 2
}
