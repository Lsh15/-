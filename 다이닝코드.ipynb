{
 "cells": [
  {
   "cell_type": "code",
   "execution_count": 25,
   "metadata": {},
   "outputs": [
    {
     "data": {
      "text/plain": [
       "[['최신족발  가성비 좋은 족발집   맛 =  생각보다 괜찮은 가성비를 주는 집입니다. 시장통에서 있어서 순댓국도 주고요. 술 한잔 하러 가기 괜찮은 곳입니다.   분위기 = 시장통이라 조용한 분위기를 기대하기는 어렵고요/ 다만 활력이 좀 느껴지네요  총평 = 건대에서 술을 한다면 여기?',\n",
       "  '2단계인데 불맛조절을 실패했나 너무 매웠어요, 쌈무에 싸먹으면 너무 맛있어요',\n",
       "  '족발이 야들야들하고 맛있었어요 같이나오는 순댓국,순대 모두 맛있었는데 순댓국에선 된장맛이 조금 났어요ㅎㅎ   불족발은 2단계로 시켰는데 불닭볶음면을 적당히 맵다! 하고 먹는 제 기준에선 그저그렇게 매웠어용  주먹밥이 3천원인데 양이 많아 좋았고 막국수는 만원이라 둘이 시켜먹기엔 좀 과해  안먹었어요ㅠㅠ 사이드로 나오면 좋을텐데 좀 아쉬웠습니당',\n",
       "  '왕족발시키면 순대랑 순대국을 제공해주더라구요.  불족발이 더 맛있는것 같아요. 손님이많아서 그런지 서비스는 무성의해요',\n",
       "  '화양시장 입구쪽에 위치한 족발집 입니다. 이곳은 맛보다 가성비로 유명합니다. 순대를 함께 줘서 술 마시러 들리기 좋습니다.']]"
      ]
     },
     "execution_count": 25,
     "metadata": {},
     "output_type": "execute_result"
    }
   ],
   "source": [
    "from urllib.request import urlopen\n",
    "import urllib.request\n",
    "from bs4 import BeautifulSoup\n",
    "import pandas as pd\n",
    "from selenium import webdriver\n",
    "from selenium.webdriver.common.keys import Keys\n",
    "from selenium.common.exceptions import NoSuchElementException\n",
    "from selenium.webdriver.chrome.options import Options\n",
    "import time\n",
    "\n",
    "\n",
    "###웹 드라이버 실행###\n",
    "###크롬드라이버 주소 변경, 크롤링할 구글 맵스 가게 주소로 변경###\n",
    "\n",
    "driver = webdriver.Chrome('../chromedriver_win32/chromedriver')\n",
    "driver.get('https://www.diningcode.com/')\n",
    "\n",
    "\n",
    "\n",
    "from selenium.webdriver.common.by import By\n",
    "from selenium.webdriver.support.ui import WebDriverWait\n",
    "from selenium.webdriver.support import expected_conditions as EC\n",
    "\n",
    "\n",
    "wait = WebDriverWait(driver, 10)\n",
    "select = driver.find_element_by_tag_name(\"input\")\n",
    "#election_3rd_raw.send_keys(\"입력할 장소명리스트\")\n",
    "select.send_keys(\"최신족발\")\n",
    "xpath = \"\"\"//*[@id=\"header\"]/form/p/button\"\"\"\n",
    "#wait.until(EC.element_to_be_clickable((By.XPATH,xpath)))\n",
    "driver.find_element_by_xpath(xpath).submit()\n",
    "\n",
    "\n",
    "\n",
    "\n",
    "### 일치하는 페이지 클릭 ###\n",
    "xpath = \"\"\"//*[@id=\"div_rn\"]/ul/li[1]\"\"\"\n",
    "driver.find_element_by_xpath(xpath).click()\n",
    "\n",
    "\n",
    "### 탭 이동 명령어 ###\n",
    "driver.window_handles\n",
    "\n",
    "\n",
    "### 마지막탭 가기(새탭으로 이동해야 크롤링 가능함) ###\n",
    "last_tab = driver.window_handles[-1]\n",
    "driver.switch_to.window(window_name=last_tab)\n",
    "\n",
    "\n",
    "### 리뷰 모두 보기 클릭 ###\n",
    "xpath1 = \"\"\"//*[@id=\"div_more_review\"]\"\"\"\n",
    "driver.find_element_by_xpath(xpath1).click()\n",
    "\n",
    "\n",
    "### 페이지 내용 가져오기 ###\n",
    "html  = driver.page_source\n",
    "soup = BeautifulSoup(html,'html.parser')\n",
    "\n",
    "raw_all = soup.find_all(class_=\"review_contents btxt\")\n",
    "\n",
    "driver.close()\n",
    "\n",
    "\n",
    "### 마지막탭 가기 다시 ###\n",
    "last_tab = driver.window_handles[-1]\n",
    "driver.switch_to.window(window_name=last_tab)\n",
    "driver.close()\n",
    "\n",
    "\n",
    "### 리뷰가 있는 태그만 불러오기 ###\n",
    "soup.find_all(class_=\"review_contents btxt\")\n",
    "\n",
    "\n",
    "### 리스트에 넣기 ###\n",
    "lists = []\n",
    "lists_all = []\n",
    "for i in raw_all:\n",
    "    lists.append(i.get_text().replace(\"\\n\",\" \").strip())\n",
    "\n",
    "### 중복 제거 ###\n",
    "lists = list(set(lists))\n",
    "\n",
    "lists_all.append(lists)\n",
    "lists_all"
   ]
  },
  {
   "cell_type": "code",
   "execution_count": 28,
   "metadata": {
    "scrolled": false
   },
   "outputs": [
    {
     "data": {
      "text/plain": [
       "'최신족발  가성비 좋은 족발집   맛 =  생각보다 괜찮은 가성비를 주는 집입니다. 시장통에서 있어서 순댓국도 주고요. 술 한잔 하러 가기 괜찮은 곳입니다.   분위기 = 시장통이라 조용한 분위기를 기대하기는 어렵고요/ 다만 활력이 좀 느껴지네요  총평 = 건대에서 술을 한다면 여기?'"
      ]
     },
     "execution_count": 28,
     "metadata": {},
     "output_type": "execute_result"
    }
   ],
   "source": []
  },
  {
   "cell_type": "code",
   "execution_count": 21,
   "metadata": {},
   "outputs": [
    {
     "data": {
      "text/plain": [
       "'최신족발  가성비 좋은 족발집   맛 =  생각보다 괜찮은 가성비를 주는 집입니다. 시장통에서 있어서 순댓국도 주고요. 술 한잔 하러 가기 괜찮은 곳입니다.   분위기 = 시장통이라 조용한 분위기를 기대하기는 어렵고요/ 다만 활력이 좀 느껴지네요  총평 = 건대에서 술을 한다면 여기?'"
      ]
     },
     "execution_count": 21,
     "metadata": {},
     "output_type": "execute_result"
    }
   ],
   "source": [
    "lists[0]"
   ]
  },
  {
   "cell_type": "code",
   "execution_count": 15,
   "metadata": {},
   "outputs": [],
   "source": [
    "lists_all=[]"
   ]
  },
  {
   "cell_type": "code",
   "execution_count": 24,
   "metadata": {},
   "outputs": [
    {
     "data": {
      "text/plain": [
       "[['최신족발  가성비 좋은 족발집   맛 =  생각보다 괜찮은 가성비를 주는 집입니다. 시장통에서 있어서 순댓국도 주고요. 술 한잔 하러 가기 괜찮은 곳입니다.   분위기 = 시장통이라 조용한 분위기를 기대하기는 어렵고요/ 다만 활력이 좀 느껴지네요  총평 = 건대에서 술을 한다면 여기?',\n",
       "  '2단계인데 불맛조절을 실패했나 너무 매웠어요, 쌈무에 싸먹으면 너무 맛있어요',\n",
       "  '족발이 야들야들하고 맛있었어요 같이나오는 순댓국,순대 모두 맛있었는데 순댓국에선 된장맛이 조금 났어요ㅎㅎ   불족발은 2단계로 시켰는데 불닭볶음면을 적당히 맵다! 하고 먹는 제 기준에선 그저그렇게 매웠어용  주먹밥이 3천원인데 양이 많아 좋았고 막국수는 만원이라 둘이 시켜먹기엔 좀 과해  안먹었어요ㅠㅠ 사이드로 나오면 좋을텐데 좀 아쉬웠습니당',\n",
       "  '왕족발시키면 순대랑 순대국을 제공해주더라구요.  불족발이 더 맛있는것 같아요. 손님이많아서 그런지 서비스는 무성의해요',\n",
       "  '화양시장 입구쪽에 위치한 족발집 입니다. 이곳은 맛보다 가성비로 유명합니다. 순대를 함께 줘서 술 마시러 들리기 좋습니다.'],\n",
       " '최신족발  가성비 좋은 족발집   맛 =  생각보다 괜찮은 가성비를 주는 집입니다. 시장통에서 있어서 순댓국도 주고요. 술 한잔 하러 가기 괜찮은 곳입니다.   분위기 = 시장통이라 조용한 분위기를 기대하기는 어렵고요/ 다만 활력이 좀 느껴지네요  총평 = 건대에서 술을 한다면 여기?',\n",
       " '최신족발  가성비 좋은 족발집   맛 =  생각보다 괜찮은 가성비를 주는 집입니다. 시장통에서 있어서 순댓국도 주고요. 술 한잔 하러 가기 괜찮은 곳입니다.   분위기 = 시장통이라 조용한 분위기를 기대하기는 어렵고요/ 다만 활력이 좀 느껴지네요  총평 = 건대에서 술을 한다면 여기?',\n",
       " ['최신족발  가성비 좋은 족발집   맛 =  생각보다 괜찮은 가성비를 주는 집입니다. 시장통에서 있어서 순댓국도 주고요. 술 한잔 하러 가기 괜찮은 곳입니다.   분위기 = 시장통이라 조용한 분위기를 기대하기는 어렵고요/ 다만 활력이 좀 느껴지네요  총평 = 건대에서 술을 한다면 여기?',\n",
       "  '2단계인데 불맛조절을 실패했나 너무 매웠어요, 쌈무에 싸먹으면 너무 맛있어요',\n",
       "  '족발이 야들야들하고 맛있었어요 같이나오는 순댓국,순대 모두 맛있었는데 순댓국에선 된장맛이 조금 났어요ㅎㅎ   불족발은 2단계로 시켰는데 불닭볶음면을 적당히 맵다! 하고 먹는 제 기준에선 그저그렇게 매웠어용  주먹밥이 3천원인데 양이 많아 좋았고 막국수는 만원이라 둘이 시켜먹기엔 좀 과해  안먹었어요ㅠㅠ 사이드로 나오면 좋을텐데 좀 아쉬웠습니당',\n",
       "  '왕족발시키면 순대랑 순대국을 제공해주더라구요.  불족발이 더 맛있는것 같아요. 손님이많아서 그런지 서비스는 무성의해요',\n",
       "  '화양시장 입구쪽에 위치한 족발집 입니다. 이곳은 맛보다 가성비로 유명합니다. 순대를 함께 줘서 술 마시러 들리기 좋습니다.'],\n",
       " ['최신족발  가성비 좋은 족발집   맛 =  생각보다 괜찮은 가성비를 주는 집입니다. 시장통에서 있어서 순댓국도 주고요. 술 한잔 하러 가기 괜찮은 곳입니다.   분위기 = 시장통이라 조용한 분위기를 기대하기는 어렵고요/ 다만 활력이 좀 느껴지네요  총평 = 건대에서 술을 한다면 여기?',\n",
       "  '2단계인데 불맛조절을 실패했나 너무 매웠어요, 쌈무에 싸먹으면 너무 맛있어요',\n",
       "  '족발이 야들야들하고 맛있었어요 같이나오는 순댓국,순대 모두 맛있었는데 순댓국에선 된장맛이 조금 났어요ㅎㅎ   불족발은 2단계로 시켰는데 불닭볶음면을 적당히 맵다! 하고 먹는 제 기준에선 그저그렇게 매웠어용  주먹밥이 3천원인데 양이 많아 좋았고 막국수는 만원이라 둘이 시켜먹기엔 좀 과해  안먹었어요ㅠㅠ 사이드로 나오면 좋을텐데 좀 아쉬웠습니당',\n",
       "  '왕족발시키면 순대랑 순대국을 제공해주더라구요.  불족발이 더 맛있는것 같아요. 손님이많아서 그런지 서비스는 무성의해요',\n",
       "  '화양시장 입구쪽에 위치한 족발집 입니다. 이곳은 맛보다 가성비로 유명합니다. 순대를 함께 줘서 술 마시러 들리기 좋습니다.']]"
      ]
     },
     "execution_count": 24,
     "metadata": {},
     "output_type": "execute_result"
    }
   ],
   "source": [
    "\n",
    "lists_all.append(lists)\n",
    "lists_all"
   ]
  },
  {
   "cell_type": "code",
   "execution_count": 20,
   "metadata": {},
   "outputs": [
    {
     "name": "stdout",
     "output_type": "stream",
     "text": [
      "None\n"
     ]
    }
   ],
   "source": [
    "print(lists_all2)"
   ]
  },
  {
   "cell_type": "code",
   "execution_count": null,
   "metadata": {},
   "outputs": [],
   "source": [
    "### 데이터프레임에 넣기 ###\n",
    "df = pd.DataFrame(lists_all)\n",
    "\n",
    "\n",
    "df.to_csv('../웹 문서 크롤링/다이닝코드.csv', sep = ',',\n",
    "         encoding='UTF-8')"
   ]
  }
 ],
 "metadata": {
  "kernelspec": {
   "display_name": "Python 3",
   "language": "python",
   "name": "python3"
  },
  "language_info": {
   "codemirror_mode": {
    "name": "ipython",
    "version": 3
   },
   "file_extension": ".py",
   "mimetype": "text/x-python",
   "name": "python",
   "nbconvert_exporter": "python",
   "pygments_lexer": "ipython3",
   "version": "3.7.3"
  }
 },
 "nbformat": 4,
 "nbformat_minor": 2
}
