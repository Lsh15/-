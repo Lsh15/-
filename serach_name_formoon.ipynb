{
 "cells": [
  {
   "cell_type": "code",
   "execution_count": null,
   "metadata": {},
   "outputs": [],
   "source": [
    "### csv 불러오기###\n",
    "\n",
    "data = pd.read_csv(\"C:/Users/CE206-28/Documents/data123.csv\", encoding='CP949')"
   ]
  },
  {
   "cell_type": "code",
   "execution_count": null,
   "metadata": {},
   "outputs": [],
   "source": [
    "### 특정값인 행들만 따로 저장###\n",
    "\n",
    "data1 = data[data['분류']== 10000000]"
   ]
  },
  {
   "cell_type": "code",
   "execution_count": null,
   "metadata": {},
   "outputs": [],
   "source": [
    "### 특정 행만 따로 저장###\n",
    "\n",
    "data_name_10000000 = data1['가게 명칭']"
   ]
  },
  {
   "cell_type": "code",
   "execution_count": null,
   "metadata": {},
   "outputs": [],
   "source": [
    "### na값 제거###\n",
    "\n",
    "data_name_10000000 = data_name_10000000.dropna()"
   ]
  },
  {
   "cell_type": "code",
   "execution_count": null,
   "metadata": {},
   "outputs": [],
   "source": [
    "### xpath###\n",
    "\n",
    "elem = driver.find_element_by_id(\"searchboxinput\")\n",
    "xpath_click = \"\"\"//*[@id=\"searchbox-searchbutton\"]\"\"\"\n",
    "xpath_move1 = \"\"\"//*[@id=\"pane\"]/div/div[1]/div/div/div[2]/div[1]\"\"\""
   ]
  },
  {
   "cell_type": "code",
   "execution_count": null,
   "metadata": {},
   "outputs": [],
   "source": [
    "### 검색 포문###\n",
    "\n",
    "for n in data_name_10000000:\n",
    "    elem.send_keys(n)\n",
    "    time.sleep(0.5)\n",
    "    driver.find_element_by_xpath(xpath_click).click()\n",
    "    time.sleep(2)\n",
    "    \n",
    "    try:\n",
    "        driver.find_element_by_xpath(\"\"\"//*[@id=\"pane\"]/div/div[1]/div/div/div[2]/div[1]\"\"\").click()\n",
    "    except:\n",
    "        None\n",
    "        \n",
    "    try:\n",
    "        driver.find_element_by_xpath(\"\"\"//*[@id=\"pane\"]/div/div[1]/div/div/div[3]/div[1]\"\"\").click()\n",
    "    except:\n",
    "        None\n",
    "    \n",
    "    time.sleep(1)    \n",
    "    \n",
    "    driver.find_element_by_id(\"searchboxinput\").clear()\n",
    "    time.sleep(0.5)"
   ]
  }
 ],
 "metadata": {
  "kernelspec": {
   "display_name": "Python 3",
   "language": "python",
   "name": "python3"
  },
  "language_info": {
   "codemirror_mode": {
    "name": "ipython",
    "version": 3
   },
   "file_extension": ".py",
   "mimetype": "text/x-python",
   "name": "python",
   "nbconvert_exporter": "python",
   "pygments_lexer": "ipython3",
   "version": "3.7.3"
  }
 },
 "nbformat": 4,
 "nbformat_minor": 2
}
